{
 "cells": [
  {
   "cell_type": "code",
   "execution_count": null,
   "metadata": {},
   "outputs": [],
   "source": [
    "import boto3\n",
    "import json\n",
    "from env_config import EnvConfig\n",
    "config = EnvConfig(env_file='.env')"
   ]
  },
  {
   "cell_type": "code",
   "execution_count": null,
   "metadata": {},
   "outputs": [],
   "source": [
    "s3_bucket = config.get_s3bucket()\n",
    "s3_object = config.get_s3object('config.json')\n",
    "\n",
    "# Create an S3 client\n",
    "s3 = boto3.client('s3')\n",
    "\n",
    "# Use the client to get the object\n",
    "try:\n",
    "    response = s3.get_object(Bucket=s3_bucket, Key=s3_object)\n",
    "    object_content = response['Body'].read()\n",
    "    print(object_content)\n",
    "except Exception as e:\n",
    "    print(e)"
   ]
  },
  {
   "cell_type": "code",
   "execution_count": null,
   "metadata": {},
   "outputs": [],
   "source": [
    "iam_id = config.get_iamid()\n",
    "iam_user = config.get_iamuser()\n",
    "s3_bucket = config.get_s3bucket()\n",
    "s3_object = config.get_s3object('config.json')\n",
    "\n",
    "# Test IAM user\n",
    "# Create an IAM client\n",
    "iam = boto3.client('iam')\n",
    "\n",
    "# Try to simulate a set of permissions\n",
    "try:\n",
    "    response = iam.simulate_principal_policy(\n",
    "        PolicySourceArn=f'arn:aws:iam::{iam_id}:user/{iam_user}',\n",
    "        ActionNames=['s3:GetObject'],\n",
    "        ResourceArns=[f'arn:aws:s3:::{s3_bucket}/{s3_object}']\n",
    "    )\n",
    "    print(response)\n",
    "except Exception as e:\n",
    "    print(e)"
   ]
  },
  {
   "cell_type": "code",
   "execution_count": null,
   "metadata": {},
   "outputs": [],
   "source": [
    "access_key = config.get_accesskey()\n",
    "secret_key = config.get_secretkey()\n",
    "s3_bucket = config.get_s3bucket()\n",
    "s3_object = config.get_s3object('config.json')\n",
    "\n",
    "# Create a session with the IAM user's access key and secret access key\n",
    "session = boto3.Session(\n",
    "    aws_access_key_id=access_key,\n",
    "    aws_secret_access_key=secret_key\n",
    ")\n",
    "\n",
    "# Create an S3 client\n",
    "s3 = session.client('s3')\n",
    "\n",
    "# Use the resource to get the object\n",
    "try:\n",
    "    response = s3.get_object(Bucket=s3_bucket, Key=s3_object)\n",
    "    object_content = response['Body'].read()\n",
    "    json_obj = json.loads(object_content)\n",
    "    print(json.dumps(json_obj, indent=4))\n",
    "except Exception as e:\n",
    "    print(e)\n"
   ]
  }
 ],
 "metadata": {
  "kernelspec": {
   "display_name": "PythonData",
   "language": "python",
   "name": "python3"
  },
  "language_info": {
   "name": "python",
   "version": "3.6.13 |Anaconda, Inc.| (default, Mar 16 2021, 11:37:27) [MSC v.1916 64 bit (AMD64)]"
  },
  "orig_nbformat": 4,
  "vscode": {
   "interpreter": {
    "hash": "c36c5f4bca0ad0e4085f33300877acdfecde1cf0f53e5f3b1bc1cb8154f5448a"
   }
  }
 },
 "nbformat": 4,
 "nbformat_minor": 2
}
