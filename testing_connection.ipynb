{
 "cells": [
  {
   "cell_type": "code",
   "execution_count": 1,
   "metadata": {},
   "outputs": [],
   "source": [
    "import sqlalchemy\n",
    "from sqlalchemy.ext.automap import automap_base\n",
    "from sqlalchemy.orm import Session\n",
    "from sqlalchemy import create_engine, MetaData\n",
    "\n",
    "from config import *"
   ]
  },
  {
   "cell_type": "code",
   "execution_count": 2,
   "metadata": {},
   "outputs": [],
   "source": [
    "# Connection to the database\n",
    "engine = create_engine(host_url, echo=True)\n",
    "\n",
    "# Setup metadata to access table alterations\n",
    "metadata_obj = MetaData()\n"
   ]
  },
  {
   "cell_type": "code",
   "execution_count": 3,
   "metadata": {},
   "outputs": [
    {
     "name": "stdout",
     "output_type": "stream",
     "text": [
      "2023-01-14 17:19:38,343 INFO sqlalchemy.engine.base.Engine select version()\n",
      "2023-01-14 17:19:38,345 INFO sqlalchemy.engine.base.Engine {}\n",
      "2023-01-14 17:19:38,541 INFO sqlalchemy.engine.base.Engine select current_schema()\n",
      "2023-01-14 17:19:38,542 INFO sqlalchemy.engine.base.Engine {}\n",
      "2023-01-14 17:19:38,745 INFO sqlalchemy.engine.base.Engine SELECT CAST('test plain returns' AS VARCHAR(60)) AS anon_1\n",
      "2023-01-14 17:19:38,745 INFO sqlalchemy.engine.base.Engine {}\n",
      "2023-01-14 17:19:38,782 INFO sqlalchemy.engine.base.Engine SELECT CAST('test unicode returns' AS VARCHAR(60)) AS anon_1\n",
      "2023-01-14 17:19:38,783 INFO sqlalchemy.engine.base.Engine {}\n",
      "2023-01-14 17:19:38,846 INFO sqlalchemy.engine.base.Engine show standard_conforming_strings\n",
      "2023-01-14 17:19:38,847 INFO sqlalchemy.engine.base.Engine {}\n",
      "2023-01-14 17:19:38,950 INFO sqlalchemy.engine.base.Engine select relname from pg_class c join pg_namespace n on n.oid=c.relnamespace where pg_catalog.pg_table_is_visible(c.oid) and relname=%(name)s\n",
      "2023-01-14 17:19:38,951 INFO sqlalchemy.engine.base.Engine {'name': 'test_table'}\n",
      "2023-01-14 17:19:39,049 INFO sqlalchemy.engine.base.Engine select relname from pg_class c join pg_namespace n on n.oid=c.relnamespace where pg_catalog.pg_table_is_visible(c.oid) and relname=%(name)s\n",
      "2023-01-14 17:19:39,050 INFO sqlalchemy.engine.base.Engine {'name': 'alchemy_test'}\n",
      "2023-01-14 17:19:39,156 INFO sqlalchemy.engine.base.Engine \n",
      "CREATE TABLE alchemy_test (\n",
      "\ttest_int SERIAL NOT NULL, \n",
      "\tforeign_example VARCHAR(16), \n",
      "\tPRIMARY KEY (test_int), \n",
      "\tFOREIGN KEY(foreign_example) REFERENCES test_table (id)\n",
      ")\n",
      "\n",
      "\n",
      "2023-01-14 17:19:39,157 INFO sqlalchemy.engine.base.Engine {}\n",
      "2023-01-14 17:19:39,266 INFO sqlalchemy.engine.base.Engine COMMIT\n"
     ]
    }
   ],
   "source": [
    "### [CREATE A TABLE] ###\n",
    "from sqlalchemy import Table, Column, Integer, String, ForeignKey\n",
    "from sqlalchemy.schema import CreateTable\n",
    "\n",
    "test_table = Table(\n",
    "    'test_table',\n",
    "    metadata_obj,\n",
    "    Column('id', String(16), nullable=False, primary_key=True)\n",
    ")\n",
    "\n",
    "alchemy_test = Table(\n",
    "    'alchemy_test',\n",
    "    metadata_obj,\n",
    "    Column('test_int', Integer, nullable=False, primary_key=True),\n",
    "    Column(\"foreign_example\", String(16), ForeignKey(\"test_table.id\")),\n",
    ")\n",
    "\n",
    "# This line runs the schema\n",
    "metadata_obj.create_all(engine)"
   ]
  },
  {
   "cell_type": "code",
   "execution_count": 42,
   "metadata": {},
   "outputs": [
    {
     "name": "stdout",
     "output_type": "stream",
     "text": [
      "2023-01-14 17:19:08,743 INFO sqlalchemy.engine.base.Engine SELECT alchemy_test.test_int, alchemy_test.foreign_example \n",
      "FROM alchemy_test\n"
     ]
    },
    {
     "name": "stderr",
     "output_type": "stream",
     "text": [
      "INFO:sqlalchemy.engine.base.Engine:SELECT alchemy_test.test_int, alchemy_test.foreign_example \n",
      "FROM alchemy_test\n"
     ]
    },
    {
     "name": "stdout",
     "output_type": "stream",
     "text": [
      "2023-01-14 17:19:08,745 INFO sqlalchemy.engine.base.Engine {}\n"
     ]
    },
    {
     "name": "stderr",
     "output_type": "stream",
     "text": [
      "INFO:sqlalchemy.engine.base.Engine:{}\n"
     ]
    },
    {
     "name": "stdout",
     "output_type": "stream",
     "text": [
      "2023-01-14 17:19:09,016 INFO sqlalchemy.engine.base.Engine \n",
      "DROP TABLE alchemy_test\n"
     ]
    },
    {
     "name": "stderr",
     "output_type": "stream",
     "text": [
      "INFO:sqlalchemy.engine.base.Engine:\n",
      "DROP TABLE alchemy_test\n"
     ]
    },
    {
     "name": "stdout",
     "output_type": "stream",
     "text": [
      "2023-01-14 17:19:09,017 INFO sqlalchemy.engine.base.Engine {}\n"
     ]
    },
    {
     "name": "stderr",
     "output_type": "stream",
     "text": [
      "INFO:sqlalchemy.engine.base.Engine:{}\n"
     ]
    },
    {
     "name": "stdout",
     "output_type": "stream",
     "text": [
      "2023-01-14 17:19:09,216 INFO sqlalchemy.engine.base.Engine COMMIT\n"
     ]
    },
    {
     "name": "stderr",
     "output_type": "stream",
     "text": [
      "INFO:sqlalchemy.engine.base.Engine:COMMIT\n"
     ]
    }
   ],
   "source": [
    "### [DROPPING A TABLE] ###\n",
    "\n",
    "# Select the table you want to drop\n",
    "alchemy_test = Table('alchemy_test', metadata_obj)\n",
    "# Drop\n",
    "alchemy_test.drop(engine)\n",
    "\n",
    "\n",
    "# Preventing \"DROP\" freezing: close connections to table \n",
    "connection = engine.connect()\n",
    "    # Select the table you want to drop\n",
    "alchemy_test = Table('alchemy_test', metadata_obj)\n",
    "    # Make a connection to that table\n",
    "result = connection.execute(alchemy_test.select())\n",
    "    # fully read result sets\n",
    "result.fetchall()\n",
    "    # close connections\n",
    "connection.close()\n",
    "    # now locks are removed & we free to drop\n",
    "alchemy_test.drop(engine)"
   ]
  },
  {
   "cell_type": "code",
   "execution_count": null,
   "metadata": {},
   "outputs": [],
   "source": []
  }
 ],
 "metadata": {
  "kernelspec": {
   "display_name": "PythonData",
   "language": "python",
   "name": "python3"
  },
  "language_info": {
   "codemirror_mode": {
    "name": "ipython",
    "version": 3
   },
   "file_extension": ".py",
   "mimetype": "text/x-python",
   "name": "python",
   "nbconvert_exporter": "python",
   "pygments_lexer": "ipython3",
   "version": "3.6.13"
  },
  "orig_nbformat": 4,
  "vscode": {
   "interpreter": {
    "hash": "c36c5f4bca0ad0e4085f33300877acdfecde1cf0f53e5f3b1bc1cb8154f5448a"
   }
  }
 },
 "nbformat": 4,
 "nbformat_minor": 2
}
